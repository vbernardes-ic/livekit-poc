{
 "cells": [
  {
   "cell_type": "markdown",
   "id": "aa166ee7-9e3e-4588-91b4-ed06993eaaf6",
   "metadata": {},
   "source": [
    "# Whisper Benchmark"
   ]
  },
  {
   "cell_type": "markdown",
   "id": "6056e49a-2cee-4c53-b5fd-c25a758c05f0",
   "metadata": {
    "tags": []
   },
   "source": [
    "## Set up env (outside notebook)\n",
    "\n",
    "Run on terminal:\n",
    "\n",
    "```\n",
    "docker run -d -p 6379:6379 redis\n",
    "celery -A tasks worker -P solo --loglevel=INFO\n",
    "```"
   ]
  },
  {
   "cell_type": "markdown",
   "id": "d36d5e29-22f9-4b49-9c04-019dd71e5a5d",
   "metadata": {
    "tags": []
   },
   "source": [
    "## Run tests"
   ]
  },
  {
   "cell_type": "markdown",
   "id": "18e414aa-6e51-4a8a-b6dc-5780abdf638e",
   "metadata": {
    "tags": []
   },
   "source": [
    "### Set up"
   ]
  },
  {
   "cell_type": "code",
   "execution_count": 2,
   "id": "0bfaa4c6-52f3-47f2-a074-5a10d4094424",
   "metadata": {},
   "outputs": [
    {
     "name": "stderr",
     "output_type": "stream",
     "text": [
      "/Users/vbernardes/miniforge3/envs/livekit39/lib/python3.9/site-packages/tqdm/auto.py:22: TqdmWarning: IProgress not found. Please update jupyter and ipywidgets. See https://ipywidgets.readthedocs.io/en/stable/user_install.html\n",
      "  from .autonotebook import tqdm as notebook_tqdm\n"
     ]
    }
   ],
   "source": [
    "import pandas as pd\n",
    "import matplotlib.pyplot as plt\n",
    "\n",
    "from tasks import transcribe\n",
    "\n",
    "audio_filename = 'stephen_fry.wav'\n",
    "\n",
    "model_names = ['tiny.en', 'base.en', 'small.en']"
   ]
  },
  {
   "cell_type": "markdown",
   "id": "c3de71ec-e5f4-418a-ad65-c1b9f0b4dc53",
   "metadata": {
    "tags": []
   },
   "source": [
    "### Full transcription"
   ]
  },
  {
   "cell_type": "code",
   "execution_count": 74,
   "id": "0702edc8-4c3a-4d8f-99bc-c2ec9c78237c",
   "metadata": {},
   "outputs": [],
   "source": [
    "n_runs = 10\n",
    "\n",
    "for _ in range(n_runs):\n",
    "    for model_name in model_names:\n",
    "        transcribe.delay(audio_filename, model_name)"
   ]
  },
  {
   "cell_type": "markdown",
   "id": "a0a18eea-81a8-4ba6-b491-8f1d54759c05",
   "metadata": {},
   "source": [
    "#### Results"
   ]
  },
  {
   "cell_type": "code",
   "execution_count": null,
   "id": "f40fb81c-fbab-4ea9-b9b0-5d50ff01b1f1",
   "metadata": {},
   "outputs": [],
   "source": [
    "full_results = {name: pd.read_csv(f'performance_{name}.csv', header=None)[0] for name in model_names}\n",
    "df_full = pd.DataFrame.from_dict(full_res, orient='columns')"
   ]
  },
  {
   "cell_type": "code",
   "execution_count": 72,
   "id": "488ac9c4-8008-4b61-babd-0ead2fa0bdd6",
   "metadata": {},
   "outputs": [
    {
     "data": {
      "image/png": "[encoded data removed]",
      "text/plain": [
       "<Figure size 400x400 with 1 Axes>"
      ]
     },
     "metadata": {},
     "output_type": "display_data"
    }
   ],
   "source": [
    "df_full.mean().plot.barh(figsize=(4,4))\n",
    "plt.xlabel('Runtime (seconds)')\n",
    "plt.title('Time needed to transcribe ~36 seconds of audio');"
   ]
  },
  {
   "cell_type": "markdown",
   "id": "054d9bbc-d47a-4b2f-af2d-dcd98566c768",
   "metadata": {},
   "source": [
    "### Snippets"
   ]
  },
  {
   "cell_type": "code",
   "execution_count": 27,
   "id": "08b20258-7901-4067-bc7d-c32da777c834",
   "metadata": {},
   "outputs": [],
   "source": [
    "import audio2numpy as a2n\n",
    "import numpy as np\n",
    "import os\n",
    "from uuid import uuid1\n",
    "from scipy.io import wavfile"
   ]
  },
  {
   "cell_type": "code",
   "execution_count": 5,
   "id": "25708484-20f5-4483-8894-fbd675df6f24",
   "metadata": {},
   "outputs": [],
   "source": [
    "np_audio, sampling_rate = a2n.audio_from_file(audio_filename)"
   ]
  },
  {
   "cell_type": "code",
   "execution_count": 6,
   "id": "81173896-5a9a-478d-a4dd-97d0080f028f",
   "metadata": {},
   "outputs": [],
   "source": [
    "def split_audio(np_audio, chunk_seconds, sampling_rate=96000):\n",
    "    indices = np.arange(sampling_rate*chunk_seconds, len(np_audio), sampling_rate*chunk_seconds)\n",
    "    return np.split(np_audio, indices)"
   ]
  },
  {
   "cell_type": "code",
   "execution_count": 7,
   "id": "bf718258-9e02-49c6-9219-acae7cf7305f",
   "metadata": {},
   "outputs": [],
   "source": [
    "chunk_sizes = [2, 3, 5, 7]\n",
    "snippets = {size: split_audio(np_audio, size, sampling_rate) for size in chunk_sizes}"
   ]
  },
  {
   "cell_type": "code",
   "execution_count": 55,
   "id": "9974a400-74b7-47c3-b331-200b6bb55873",
   "metadata": {},
   "outputs": [],
   "source": [
    "temp_dir = 'tempfiles'\n",
    "if not os.path.exists(temp_dir):\n",
    "    os.mkdir(temp_dir)\n",
    "\n",
    "n_runs=10\n",
    "for _ in range(n_runs):\n",
    "    for size, snips in snippets.items():\n",
    "        for model_name in model_names:\n",
    "            for i, snip in enumerate(snips):\n",
    "                temp_filename = str(uuid1())\n",
    "                write_path = os.path.join(temp_dir, temp_filename) + '.wav'\n",
    "                wavfile.write(write_path, sampling_rate, snip)\n",
    "                transcribe.delay(write_path, model_name, chunk_size=size, counter=i)"
   ]
  },
  {
   "cell_type": "markdown",
   "id": "5bbd35a9-8ad6-414e-95da-52a8db4d5601",
   "metadata": {},
   "source": [
    "#### Performance"
   ]
  },
  {
   "cell_type": "code",
   "execution_count": 58,
   "id": "020fec1c-c3d3-445f-854f-201f80ee80cf",
   "metadata": {},
   "outputs": [],
   "source": [
    "snip_runtimes = {}\n",
    "for model_name in model_names:\n",
    "    snip_runtimes[model_name] = {}\n",
    "    for size in chunk_sizes:\n",
    "        snip_runtimes[model_name].update({\n",
    "            size: pd.read_csv(f'performance_{model_name}_{size}secs.csv', header=None)[0]\n",
    "        })\n",
    "\n",
    "snip_results = {model_name: pd.DataFrame.from_dict(snip_runtimes[model_name], orient='columns') for model_name in model_names}"
   ]
  },
  {
   "cell_type": "code",
   "execution_count": 60,
   "id": "dc72612c-bc07-4a24-9687-755edf9c6937",
   "metadata": {},
   "outputs": [
    {
     "data": {
      "image/png": "[encoded data removed]",
      "text/plain": [
       "<Figure size 800x300 with 3 Axes>"
      ]
     },
     "metadata": {},
     "output_type": "display_data"
    }
   ],
   "source": [
    "fig, ax = plt.subplots(1, 3, figsize=(8,3))\n",
    "for i, model_name in enumerate(model_names):\n",
    "    snip_results[model_name].mean().plot.barh(ax=ax[i])\n",
    "    ax[i].set_title(model_name)\n",
    "    ax[i].set_ylabel('Chunk size (secs)')\n",
    "fig.suptitle('Time to transcribe per chunk size');\n",
    "plt.tight_layout()"
   ]
  },
  {
   "cell_type": "markdown",
   "id": "9cfd8557-d52b-48ec-ae37-90e2deab34bc",
   "metadata": {},
   "source": [
    "### Transcripts"
   ]
  },
  {
   "cell_type": "code",
   "execution_count": 73,
   "id": "15492da0-9857-4342-bd58-c8cb295e5a1d",
   "metadata": {},
   "outputs": [],
   "source": [
    "for model_name in model_names:\n",
    "    for size in chunk_sizes:\n",
    "        transcript = []\n",
    "        for i in range(18):\n",
    "            filename = f'transcription_{model_name}_{size}secs_{i}.txt'\n",
    "            if os.path.exists(filename):\n",
    "                with open(filename, 'r') as f:\n",
    "                    transcript.append(f.readlines()[0])\n",
    "        out_file = f'transcription_{model_name}_{size}secs.txt'\n",
    "        with open(out_file, 'w') as f:\n",
    "            f.write(''.join(transcript))"
   ]
  }
 ],
 "metadata": {
  "kernelspec": {
   "display_name": "Python 3 (ipykernel)",
   "language": "python",
   "name": "python3"
  },
  "language_info": {
   "codemirror_mode": {
    "name": "ipython",
    "version": 3
   },
   "file_extension": ".py",
   "mimetype": "text/x-python",
   "name": "python",
   "nbconvert_exporter": "python",
   "pygments_lexer": "ipython3",
   "version": "3.9.15"
  }
 },
 "nbformat": 4,
 "nbformat_minor": 5
}
